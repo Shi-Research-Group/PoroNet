{
 "cells": [
  {
   "cell_type": "markdown",
   "metadata": {},
   "source": [
    "import packages"
   ]
  },
  {
   "cell_type": "code",
   "execution_count": null,
   "metadata": {},
   "outputs": [],
   "source": [
    "import numpy as np \n",
    "import os \n",
    "import sys\n",
    "from pathlib import Path \n",
    "import pickle\n",
    "from ase.io import read\n",
    "from skimage.measure import regionprops\n",
    "\n",
    "path_to_prn = os.path.abspath(\n",
    "    '.../PoroNet')\n",
    "sys.path.append(path_to_prn)\n",
    "import poronet_functions as prn\n"
   ]
  },
  {
   "cell_type": "markdown",
   "metadata": {},
   "source": [
    "Import the required MOFs and pore index"
   ]
  },
  {
   "cell_type": "code",
   "execution_count": null,
   "metadata": {},
   "outputs": [],
   "source": [
    "#Here we chose the pores with diameter from 8.4 to 8.7 as examples\n",
    "Required_MOFs=pickle.load(open(('Required_MOFs_84_87.pkl'), 'rb'))\n",
    "Index_of_pbc_pores_84_87=pickle.load(open(('Index_of_pbc_pores_84_87.pkl'), 'rb'))"
   ]
  },
  {
   "cell_type": "markdown",
   "metadata": {},
   "source": [
    "Calculte psd with loop structure"
   ]
  },
  {
   "cell_type": "code",
   "execution_count": null,
   "metadata": {},
   "outputs": [],
   "source": [
    "csd_list=[]\n",
    "error=[]\n",
    "for i,MOF in enumerate(Required_MOFs):\n",
    "  try:\n",
    "    #set the path of the cif files\n",
    "    cif_path = f\".../Tobacco/{MOF}.cif\"\n",
    "    mat_atoms = read(cif_path)\n",
    "    dgrid = prn.dgrid_from_atoms_cpu_no_aabb(mat_atoms, spacing=0.5)\n",
    "    regions, maxima = prn.regions_from_dgrid_with_threshold_abs(dgrid, mask_thickness = 0, h=0.5, threshold_abs=1)\n",
    "    maxima_radii = dgrid[tuple(maxima.T)]\n",
    "    pbc_groups = prn.apply_pbc(regions, maxima, maxima_radii, mat_atoms, return_conn=True)\n",
    "    props=regionprops(regions)\n",
    "    shape=regions.shape\n",
    "    pbc=Index_of_pbc_pores_84_87[i]\n",
    "    bins_csd=np.linspace(0,15,31)\n",
    "    y=prn.calculate_csd_with_pbc(props,pbc,pbc_groups,bins_csd,mat_atoms,shape)\n",
    "    csd_list.append(y)\n",
    "    print(f\"{i+1}/{len(Required_MOFs)}\")\n",
    "  except Exception as e:\n",
    "        error.append(i)\n",
    "        continue    "
   ]
  }
 ],
 "metadata": {
  "kernelspec": {
   "display_name": "Python 3",
   "language": "python",
   "name": "python3"
  },
  "language_info": {
   "codemirror_mode": {
    "name": "ipython",
    "version": 3
   },
   "file_extension": ".py",
   "mimetype": "text/x-python",
   "name": "python",
   "nbconvert_exporter": "python",
   "pygments_lexer": "ipython3",
   "version": "3.11.9"
  }
 },
 "nbformat": 4,
 "nbformat_minor": 2
}
