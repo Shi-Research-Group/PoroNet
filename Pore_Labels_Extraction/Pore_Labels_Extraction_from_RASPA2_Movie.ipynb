{
 "cells": [
  {
   "cell_type": "code",
   "execution_count": null,
   "metadata": {},
   "outputs": [],
   "source": [
    "#import packages and set paths\n",
    "import numpy as np\n",
    "import pandas as pd\n",
    "import traceback\n",
    "import re\n",
    "import dask\n",
    "from dask import delayed\n",
    "from dask.distributed import Client, progress, LocalCluster\n",
    "import sys\n",
    "import os\n",
    "path_to_prn = os.path.abspath(\n",
    "    '.../PoroNet')\n",
    "sys.path.append(path_to_prn)\n",
    "import poronet_functions as prn\n",
    "from ase.io import read"
   ]
  },
  {
   "cell_type": "code",
   "execution_count": null,
   "metadata": {},
   "outputs": [],
   "source": [
    "# read total adsorption data collected from GCMC simulation results (we have removed the extrme outliers tobmof-4092 and tobmof-5740)\n",
    "tot_ads = np.loadtxt('160K_5bar_cccc_new.txt', dtype='str')\n",
    "\n",
    "# convert adsorption units to g/L \n",
    "tot_ads[:,1] = tot_ads[:,1].astype(np.float64)/22.4139757476*2.01588\n",
    "tot_ads[:,2] = tot_ads[:,2].astype(np.float64)/22.4139757476*2.01588"
   ]
  },
  {
   "cell_type": "code",
   "execution_count": null,
   "metadata": {},
   "outputs": [],
   "source": [
    "#Randomly shuffle the tot_ads\n",
    "np.random.seed(14)\n",
    "np.random.shuffle(tot_ads)"
   ]
  },
  {
   "cell_type": "code",
   "execution_count": null,
   "metadata": {},
   "outputs": [],
   "source": [
    "#Remove the ones that cannot be generated pore graphs\n",
    "tot_ads= np.delete(tot_ads, [648, 1557, 1670, 1685], axis=0)"
   ]
  },
  {
   "cell_type": "code",
   "execution_count": null,
   "metadata": {},
   "outputs": [],
   "source": [
    "# Remove MOFs that ran out of memory during label extraction at 77 K / 100 bar\n",
    "tot_ads= np.delete(tot_ads, [855, 1277, 1652, 1807], axis=0)"
   ]
  },
  {
   "cell_type": "markdown",
   "metadata": {},
   "source": [
    "Extract pore-level labels from GCMC trajectories according to indices in tot_ads"
   ]
  },
  {
   "cell_type": "code",
   "execution_count": null,
   "metadata": {},
   "outputs": [],
   "source": [
    "def pore_level_label_extraction(i):  \n",
    "    pore_labels=[]\n",
    "    mofid = tot_ads[i,0]\n",
    "    #define the path of gcmc folders\n",
    "    path_to_160K_5bar='.../gcmc/160K_5bar'\n",
    "    path_to_output= path_to_160K_5bar + '/' + mofid + '/' + 'Output/System_0'\n",
    "    path_to_cif = path_to_160K_5bar + '/' + mofid + '/' + mofid + '.cif'\n",
    "    path_to_movie=path_to_160K_5bar+ '/' + mofid + '/' + '/Movies/System_0'\n",
    "    \n",
    "    all_files_output = os.listdir(path_to_output)\n",
    "    for file_name in all_files_output:\n",
    "        if file_name.startswith(f'output_') and file_name.endswith('.data'):\n",
    "            path_to_data = path_to_output + '/' + file_name\n",
    "            with open(path_to_data, 'r') as file:\n",
    "             content = file.read()\n",
    "             match_a = re.search(r\"Number of unitcells \\[a\\]:\\s*(\\d+)\", content)\n",
    "             number_of_unitcells_a = match_a.group(1)\n",
    "             match_b = re.search(r\"Number of unitcells \\[b\\]:\\s*(\\d+)\", content)\n",
    "             number_of_unitcells_b = match_b.group(1)\n",
    "             match_c = re.search(r\"Number of unitcells \\[c\\]:\\s*(\\d+)\", content)\n",
    "             number_of_unitcells_c = match_c.group(1)\n",
    "             number_of_unitcells = int(number_of_unitcells_a) * int(number_of_unitcells_b) * int(number_of_unitcells_c) \n",
    "            break \n",
    "\n",
    "    #list all files in Movie/System_0\n",
    "    all_files_movie = os.listdir(path_to_movie)\n",
    "    \n",
    "    found = False\n",
    "    #find the movie file\n",
    "    for file_name in all_files_movie:\n",
    "        if file_name.startswith(f'Movie_{mofid}_') and file_name.endswith('_160.000000_500000.000000_allcomponents.pdb'):\n",
    "            path_to_pdb = path_to_movie + '/' + file_name\n",
    "            found = True\n",
    "            break\n",
    "    if not found: \n",
    "          raise ValueError\n",
    "\n",
    "    # read cif\n",
    "    mat_atoms = read(path_to_cif)\n",
    "\n",
    "    # compute distance grid\n",
    "    dgrid = prn.dgrid_from_atoms_cpu_no_aabb(mat_atoms, spacing=0.5)\n",
    "    \n",
    "    # compute regions and maxima\n",
    "    regions, maxima = prn.regions_from_dgrid_with_threshold_abs(dgrid, mask_thickness=0, h=0.5, threshold_abs=1)\n",
    "    maxima_radii = dgrid[tuple(maxima.T)]\n",
    "    \n",
    "    # apply pbc\n",
    "    regions_pbc = prn.apply_pbc(regions, maxima, maxima_radii, mat_atoms )\n",
    "\n",
    "    # output A dictionary with the number of atoms in each cluster type and the total number of atoms.\n",
    "    pore_dic = prn.apply_region_map_to_raspa_pdb_wrapped(path_to_pdb, regions_pbc, mat_atoms, symbol_map=dict(Hc='H'))\n",
    "\n",
    "    for key, value in pore_dic.items():\n",
    "\n",
    "        if '_mean' in key and 'total_mean' not in key:\n",
    "           value_unit_pore = value / number_of_unitcells\n",
    "           pore_labels.append(value_unit_pore)\n",
    "    return pore_labels\n",
    "    "
   ]
  },
  {
   "cell_type": "code",
   "execution_count": null,
   "metadata": {},
   "outputs": [],
   "source": [
    "#delayed task\n",
    "delayed_pore_labels_future=[]\n",
    "for i in range(len(tot_ads)):\n",
    "  pore_label=delayed(pore_level_label_extraction)(i)\n",
    "  delayed_pore_labels_future.append(pore_label)"
   ]
  },
  {
   "cell_type": "code",
   "execution_count": null,
   "metadata": {},
   "outputs": [],
   "source": [
    "# Create a Dask client with 64 CPUs for parallel computation\n",
    "client = Client(n_workers=64)"
   ]
  },
  {
   "cell_type": "code",
   "execution_count": null,
   "metadata": {},
   "outputs": [],
   "source": [
    "client"
   ]
  },
  {
   "cell_type": "code",
   "execution_count": null,
   "metadata": {},
   "outputs": [],
   "source": [
    "#Start the delayed tasks \n",
    "futures = dask.persist(*delayed_pore_labels_future) "
   ]
  },
  {
   "cell_type": "code",
   "execution_count": null,
   "metadata": {},
   "outputs": [],
   "source": [
    "#Check the progress\n",
    "progress(futures)"
   ]
  },
  {
   "cell_type": "code",
   "execution_count": null,
   "metadata": {},
   "outputs": [],
   "source": [
    "#Stop the task\n",
    "client.shutdown()"
   ]
  },
  {
   "cell_type": "code",
   "execution_count": null,
   "metadata": {},
   "outputs": [],
   "source": [
    "#Collecting results from the completed delayed task\n",
    "results = client.compute(futures)\n",
    "pore_labels = [r.result() if r.status == 'finished' else None for r in results]"
   ]
  },
  {
   "cell_type": "code",
   "execution_count": null,
   "metadata": {},
   "outputs": [],
   "source": [
    "#Make pore_labels a 1d list\n",
    "pore_labels_1d=[]\n",
    "pore_labels_1d = [item for sublist in pore_labels for item in sublist]"
   ]
  },
  {
   "cell_type": "code",
   "execution_count": null,
   "metadata": {},
   "outputs": [],
   "source": [
    "#Store the results as a excel\n",
    "df_pore= pd.DataFrame(pore_labels_1d, columns=['160K_5bar-pore-molecule'])\n",
    "df_pore.to_excel('160K_5bar-pore-molecule.xlsx', index=False)  "
   ]
  }
 ],
 "metadata": {
  "kernelspec": {
   "display_name": "mgr_env",
   "language": "python",
   "name": "python3"
  },
  "language_info": {
   "codemirror_mode": {
    "name": "ipython",
    "version": 3
   },
   "file_extension": ".py",
   "mimetype": "text/x-python",
   "name": "python",
   "nbconvert_exporter": "python",
   "pygments_lexer": "ipython3",
   "version": "3.11.9"
  },
  "orig_nbformat": 4
 },
 "nbformat": 4,
 "nbformat_minor": 2
}
