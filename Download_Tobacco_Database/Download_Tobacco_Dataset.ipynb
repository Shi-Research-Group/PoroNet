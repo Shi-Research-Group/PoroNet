{
 "cells": [
  {
   "cell_type": "code",
   "execution_count": null,
   "metadata": {},
   "outputs": [],
   "source": [
    "import os\n",
    "import sys\n",
    "import pandas as pd\n",
    "\n",
    "from mofdb_client import fetch\n",
    "\n",
    "path_to_prn = os.path.abspath(\n",
    "    '.../PoroNet')\n",
    "sys.path.append(path_to_prn)\n",
    "import poronet_functions as prn"
   ]
  },
  {
   "cell_type": "code",
   "execution_count": null,
   "metadata": {},
   "outputs": [],
   "source": [
    "#Download the whole Tobacco databse from MOFXDB \n",
    "df = prn.get_data_from_mofdb(params={'vf_min': 0.00, 'vf_max': 1.00,'database':'Tobacco'})"
   ]
  },
  {
   "cell_type": "code",
   "execution_count": null,
   "metadata": {},
   "outputs": [],
   "source": [
    "#extract the columns of name and cif\n",
    "df_1=df.iloc[:13511, [4,15]]\n",
    "print(df_1)"
   ]
  },
  {
   "cell_type": "code",
   "execution_count": null,
   "metadata": {},
   "outputs": [],
   "source": [
    "#Select the MOFs according to Selected_MOFs_for_H2_2000.xlsx\n",
    "data = pd.read_excel('Selected_MOFs_for_H2_2000.xlsx')\n",
    "\n",
    "#we have removed the extreme outliers tobmof-4092 and tobmof-5740, so only 1998 MOFs were selected in this step\n",
    "data_training = data.iloc[0:1998, :]\n",
    "\n",
    "data_training_name = data_training.iloc[:,0]\n",
    "\n",
    "print(data_training_name)\n"
   ]
  },
  {
   "cell_type": "code",
   "execution_count": null,
   "metadata": {},
   "outputs": [],
   "source": [
    "#set the name to index clumn in df_1\n",
    "df_1.set_index('name', inplace=True)\n",
    "\n",
    "#choose the corresponding rows of data_training_name in df_1\n",
    "df_2=df_1.loc[data_training_name]\n",
    "\n",
    "#reset the index\n",
    "df_2.reset_index(inplace=True)\n",
    "\n",
    "#print the filtered df_2\n",
    "df_2.head(1000)"
   ]
  },
  {
   "cell_type": "code",
   "execution_count": null,
   "metadata": {},
   "outputs": [],
   "source": [
    "df_2.to_feather('Selected_MOFs_for_H2.feather')"
   ]
  }
 ],
 "metadata": {
  "kernelspec": {
   "display_name": "Python 3",
   "language": "python",
   "name": "python3"
  },
  "language_info": {
   "codemirror_mode": {
    "name": "ipython",
    "version": 3
   },
   "file_extension": ".py",
   "mimetype": "text/x-python",
   "name": "python",
   "nbconvert_exporter": "python",
   "pygments_lexer": "ipython3",
   "version": "3.11.9"
  },
  "orig_nbformat": 4
 },
 "nbformat": 4,
 "nbformat_minor": 2
}
