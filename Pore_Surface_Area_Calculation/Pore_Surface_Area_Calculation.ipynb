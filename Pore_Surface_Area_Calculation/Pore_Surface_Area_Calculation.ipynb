{
 "cells": [
  {
   "cell_type": "markdown",
   "metadata": {},
   "source": [
    "import packages"
   ]
  },
  {
   "cell_type": "code",
   "execution_count": null,
   "metadata": {},
   "outputs": [],
   "source": [
    "import numpy as np \n",
    "import os \n",
    "import sys\n",
    "from pathlib import Path \n",
    "import pickle\n",
    "from ase.io import read\n",
    "from ase.data import vdw_radii\n",
    "from ase.units import _amu\n",
    "\n",
    "path_to_prn = os.path.abspath(\n",
    "    '.../PoroNet')\n",
    "sys.path.append(path_to_prn)\n",
    "import poronet_functions as prn"
   ]
  },
  {
   "cell_type": "markdown",
   "metadata": {},
   "source": [
    "Import the required MOFs and pore index"
   ]
  },
  {
   "cell_type": "code",
   "execution_count": null,
   "metadata": {},
   "outputs": [],
   "source": [
    "#Here we chose the pores with diameter from 8.4 to 8.7 as examples\n",
    "Required_MOFs=pickle.load(open(('Required_MOFs_84_87.pkl'), 'rb'))\n",
    "Index_of_pbc_pores_84_87=pickle.load(open(('Index_of_pbc_pores_84_87.pkl'), 'rb'))"
   ]
  },
  {
   "cell_type": "markdown",
   "metadata": {},
   "source": [
    "Calculte volumetric surface area with loop structure"
   ]
  },
  {
   "cell_type": "code",
   "execution_count": null,
   "metadata": {},
   "outputs": [],
   "source": [
    "pbc_area_m2_L_list=[]\n",
    "error=[]\n",
    "for i,MOF in enumerate(Required_MOFs):\n",
    "  try:\n",
    "    #set the path of the cif files\n",
    "    cif_path = f\".../Tobacco/{MOF}.cif\"\n",
    "    mat_atoms = read(cif_path)\n",
    "    dgrid = prn.dgrid_from_atoms_cpu_no_aabb(mat_atoms, spacing=0.5)\n",
    "    regions, maxima = prn.regions_from_dgrid_with_threshold_abs(dgrid, mask_thickness = 0, h=0.5, threshold_abs=1)\n",
    "    maxima_radii = dgrid[tuple(maxima.T )]\n",
    "    pbc_groups = prn.apply_pbc(regions, maxima, maxima_radii, mat_atoms, return_conn=True)\n",
    "    regions_pbc = prn.apply_pbc(regions, maxima, maxima_radii, mat_atoms, return_conn=False)\n",
    "    probe_size = vdw_radii[2]\n",
    "    mass_g = mat_atoms.get_masses().sum() * _amu * 1000  # this is in grams\n",
    "    dist_iso_submeshes =prn.get_isosurface_submeshes(dgrid,probe_size,mat_atoms, regions_pbc, colorscale=None)\n",
    "    group_areas = [(m.area * 1e-20) for m in dist_iso_submeshes]#m2\n",
    "    j=Index_of_pbc_pores_84_87[i]\n",
    "    count_j = np.sum(regions_pbc.flatten() == j+1)\n",
    "    count_all = len(regions_pbc.flatten())\n",
    "    ratio_j=count_j/count_all\n",
    "    pbc_area_m2=group_areas[j]\n",
    "    cell_volume=mat_atoms.get_volume()\n",
    "    cell_volume_L=cell_volume/(1E27)\n",
    "    pore_volume_L=cell_volume_L*ratio_j\n",
    "    pbc_area_m2_L=pbc_area_m2/pore_volume_L\n",
    "    pbc_area_m2_L_list.append(pbc_area_m2_L)\n",
    "    print(f\"{i+1}/{len(Required_MOFs)}\")\n",
    "  except Exception as e:\n",
    "        error.append(i)\n",
    "        continue"
   ]
  }
 ],
 "metadata": {
  "kernelspec": {
   "display_name": "Python 3",
   "language": "python",
   "name": "python3"
  },
  "language_info": {
   "codemirror_mode": {
    "name": "ipython",
    "version": 3
   },
   "file_extension": ".py",
   "mimetype": "text/x-python",
   "name": "python",
   "nbconvert_exporter": "python",
   "pygments_lexer": "ipython3",
   "version": "3.11.9"
  }
 },
 "nbformat": 4,
 "nbformat_minor": 2
}
