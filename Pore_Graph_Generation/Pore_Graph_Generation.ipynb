{
 "cells": [
  {
   "cell_type": "markdown",
   "metadata": {},
   "source": [
    "Import and Path"
   ]
  },
  {
   "cell_type": "code",
   "execution_count": null,
   "metadata": {},
   "outputs": [],
   "source": [
    "#import packages and set paths\n",
    "import os, sys\n",
    "import numpy as np \n",
    "from pathlib import Path \n",
    "import pandas as pd\n",
    "import pickle\n",
    "import dask\n",
    "from dask import delayed\n",
    "from dask.distributed import Client, progress, LocalCluster\n",
    "\n",
    "path_to_mgr = Path('.../PoroNet')\n",
    "sys.path.append(str(path_to_mgr))\n",
    "import mofography as mgr"
   ]
  },
  {
   "cell_type": "markdown",
   "metadata": {},
   "source": [
    "Load the MOF structures from the feather file"
   ]
  },
  {
   "cell_type": "code",
   "execution_count": null,
   "metadata": {},
   "outputs": [],
   "source": [
    "path_to_df = Path('Selected_MOFs_for_H2.feather')\n",
    "df_Tobacco_training = pd.read_feather(path_to_df)\n",
    "Tobacco_atoms = mgr.atoms_from_mofdb_df(df_Tobacco_training)"
   ]
  },
  {
   "cell_type": "markdown",
   "metadata": {},
   "source": [
    "Create a workflow for pore graphs (using Dask to perform parallel calculation)"
   ]
  },
  {
   "cell_type": "code",
   "execution_count": null,
   "metadata": {},
   "outputs": [],
   "source": [
    "def regions_maxima_radii_from_dgrid(dgrid, mask_thickness,h, threshold_abs):\n",
    "    regions, maxima = mgr.regions_from_dgrid_with_threshold_abs(dgrid, mask_thickness,h,threshold_abs)\n",
    "    maxima_radii = dgrid[tuple(maxima.T )]\n",
    "    print('made the regions and maxima')\n",
    "    return regions, maxima, maxima_radii\n",
    "\n",
    "def make_rag(regions, maxima, maxima_radii, dgrid, mat_atoms,spacing):\n",
    "    connections = mgr.connections_from_regions_and_dgrid(regions, dgrid, maxima, mat_atoms)\n",
    "    rag = mgr.rag_from_connections_pixel_multi(regions,connections, maxima, only_use_internal=False)\n",
    "    rag  = mgr.add_pixel_ratio_to_rag(rag, mat_atoms, spacing) \n",
    "    shape = dgrid.shape\n",
    "    rag = mgr.add_maxima_to_rag(rag, maxima, maxima_radii, shape, mat_atoms)\n",
    "    rag = mgr.add_volume_to_rag(rag,mat_atoms)\n",
    "    print('made the rag')\n",
    "    return rag\n",
    "\n",
    "def energy_calculation(mat_atoms, spacing, blocksize,forcefield_mixed,cutoff,probe_symbol):\n",
    "    egrid = mgr.egrid_from_atoms2(mat_atoms, spacing, blocksize, forcefield_mixed, cutoff, probe_symbol, return_ncells=False, precompute_aabb=False)\n",
    "    egrid= mgr.egrid_transfer(egrid)\n",
    "    einterp=mgr.get_energy_interpolator(egrid)\n",
    "    print('made the einterp')\n",
    "    return einterp\n",
    "\n",
    "def energy_histogram(rag,regions,einterp,pbc_groups):\n",
    "    bins1=np.array([-np.inf,-10])\n",
    "    bins2=np.linspace(-9,-1,9)\n",
    "    bins3 = np.array([0, np.inf])\n",
    "    bins=np.concatenate((bins1,bins2,bins3))\n",
    "    rag=mgr.add_vdw_hist_to_rag_probability_right(rag, regions, einterp, use_pbc=True, pbc_groups=pbc_groups, bins_energy=bins)\n",
    "    print('made the bins and added ehist')\n",
    "    return rag"
   ]
  },
  {
   "cell_type": "code",
   "execution_count": null,
   "metadata": {},
   "outputs": [],
   "source": [
    "#delayed task\n",
    "delayed_rag_futures = []\n",
    "for mat_atoms in Tobacco_atoms:\n",
    "    dgrid = delayed(mgr.dgrid_from_atoms_cpu_no_aabb)(mat_atoms, spacing=0.5)\n",
    "    regions_maxima_radii = delayed(regions_maxima_radii_from_dgrid)(dgrid, mask_thickness=0, h=0.5, threshold_abs=1)\n",
    "    rag = delayed(make_rag)(regions=regions_maxima_radii[0], maxima=regions_maxima_radii[1],maxima_radii=regions_maxima_radii[2], dgrid=dgrid, mat_atoms=mat_atoms, spacing=0.5)\n",
    "    pbc_groups = delayed(mgr.apply_pbc)(regions_maxima_radii[0], regions_maxima_radii[1], regions_maxima_radii[2], mat_atoms, return_conn=True)\n",
    "    rag = delayed(mgr.add_pbc_to_rag)(rag,pbc_groups)\n",
    "    einterp=delayed(energy_calculation)(mat_atoms,spacing=0.5, blocksize=20000, forcefield_mixed=None,cutoff=12.8,probe_symbol='H_com')\n",
    "    rag = delayed(energy_histogram)(rag,regions=regions_maxima_radii[0],einterp=einterp,pbc_groups=pbc_groups)\n",
    "    delayed_rag_futures.append(rag)\n"
   ]
  },
  {
   "cell_type": "code",
   "execution_count": null,
   "metadata": {},
   "outputs": [],
   "source": [
    "# Create a Dask client with 64 CPUs for parallel computation\n",
    "client = Client(n_workers=64)"
   ]
  },
  {
   "cell_type": "code",
   "execution_count": null,
   "metadata": {},
   "outputs": [],
   "source": [
    "client"
   ]
  },
  {
   "cell_type": "code",
   "execution_count": null,
   "metadata": {},
   "outputs": [],
   "source": [
    "#Start the delayed tasks \n",
    "futures = dask.persist(*delayed_rag_futures) "
   ]
  },
  {
   "cell_type": "code",
   "execution_count": null,
   "metadata": {},
   "outputs": [],
   "source": [
    "#Check the progress\n",
    "progress(futures)"
   ]
  },
  {
   "cell_type": "code",
   "execution_count": null,
   "metadata": {},
   "outputs": [],
   "source": [
    "#Stop the task\n",
    "client.shutdown()"
   ]
  },
  {
   "cell_type": "markdown",
   "metadata": {},
   "source": [
    "Etraction of results"
   ]
  },
  {
   "cell_type": "code",
   "execution_count": null,
   "metadata": {},
   "outputs": [],
   "source": [
    "#Collecting results from the completed delayed task\n",
    "results = client.compute(futures)\n",
    "rags = [r.result() if r.status == 'finished' else None for r in results]"
   ]
  },
  {
   "cell_type": "code",
   "execution_count": null,
   "metadata": {},
   "outputs": [],
   "source": [
    "# Check how many MOFs failed (i.e., no pore graph)\n",
    "np.sum([a == None for a in rags])"
   ]
  },
  {
   "cell_type": "code",
   "execution_count": null,
   "metadata": {},
   "outputs": [],
   "source": [
    "#Extract the pore graphs and find the indice of none\n",
    "rag_list = []\n",
    "none_indices = []\n",
    "\n",
    "for i, g in enumerate(rags):\n",
    "    if g is None:\n",
    "        none_indices.append(i) \n",
    "    else:\n",
    "        rag_list.append(g) "
   ]
  },
  {
   "cell_type": "code",
   "execution_count": null,
   "metadata": {},
   "outputs": [],
   "source": [
    "rag_list"
   ]
  },
  {
   "cell_type": "code",
   "execution_count": null,
   "metadata": {},
   "outputs": [],
   "source": [
    "#Store the results as a pkl file\n",
    "pickle.dump(rag_list, open(Path('Pore_Graph_for_H2.pkl'), 'wb'))"
   ]
  }
 ],
 "metadata": {
  "kernelspec": {
   "display_name": "Python 3",
   "language": "python",
   "name": "python3"
  },
  "language_info": {
   "codemirror_mode": {
    "name": "ipython",
    "version": 3
   },
   "file_extension": ".py",
   "mimetype": "text/x-python",
   "name": "python",
   "nbconvert_exporter": "python",
   "pygments_lexer": "ipython3",
   "version": "3.11.9"
  }
 },
 "nbformat": 4,
 "nbformat_minor": 2
}
